{
  "nbformat": 4,
  "nbformat_minor": 0,
  "metadata": {
    "colab": {
      "provenance": [],
      "authorship_tag": "ABX9TyO/6d9LTQYJmuo1zA4ME6ET",
      "include_colab_link": true
    },
    "kernelspec": {
      "name": "python3",
      "display_name": "Python 3"
    },
    "language_info": {
      "name": "python"
    }
  },
  "cells": [
    {
      "cell_type": "markdown",
      "metadata": {
        "id": "view-in-github",
        "colab_type": "text"
      },
      "source": [
        "<a href=\"https://colab.research.google.com/github/angun52/pythontset/blob/main/Untitled0.ipynb\" target=\"_parent\"><img src=\"https://colab.research.google.com/assets/colab-badge.svg\" alt=\"Open In Colab\"/></a>"
      ]
    },
    {
      "cell_type": "code",
      "execution_count": 3,
      "metadata": {
        "colab": {
          "base_uri": "https://localhost:8080/"
        },
        "id": "NSXnnwnpumLR",
        "outputId": "3e2d83e6-f8e7-499d-80db-eff5600fc073"
      },
      "outputs": [
        {
          "output_type": "stream",
          "name": "stdout",
          "text": [
            "จำนวนที่ 1:3\n",
            "จำนวนที่ 2:4\n",
            "จำนวนที่ 3:1\n",
            "คำน้อยสุด คือ  1\n"
          ]
        }
      ],
      "source": [
        "a=int(input(\"จำนวนที่ 1:\"))\n",
        "b=int(input(\"จำนวนที่ 2:\"))\n",
        "c=int(input(\"จำนวนที่ 3:\"))\n",
        "m=a\n",
        "if(b<m):\n",
        "    m=b\n",
        "if(c<m):\n",
        "    m=c\n",
        "print(\"คำน้อยสุด คือ \",m)   "
      ]
    }
  ]
}